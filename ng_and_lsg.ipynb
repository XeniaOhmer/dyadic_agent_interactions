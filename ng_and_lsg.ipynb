{
 "cells": [
  {
   "cell_type": "code",
   "execution_count": 21,
   "metadata": {},
   "outputs": [],
   "source": [
    "import random"
   ]
  },
  {
   "cell_type": "markdown",
   "metadata": {},
   "source": [
    "## Skeletal dynamics"
   ]
  },
  {
   "cell_type": "code",
   "execution_count": 22,
   "metadata": {},
   "outputs": [],
   "source": [
    "# Interaction structure for a single game.\n",
    "\n",
    "def interaction(S, R):\n",
    "    \n",
    "    m_t = getMeaning()\n",
    "    sigma = S.getSignal(m_t)\n",
    "    m_r = R.guessMeaning(sigma)\n",
    "    \n",
    "    if m_r == m_t:\n",
    "        outcome = True\n",
    "    else:\n",
    "        outcome = False\n",
    "        \n",
    "    S.update(outcome, sigma, m_t, m_r)\n",
    "    R.update(outcome, sigma, m_t, m_r)\n",
    "\n",
    "    \n",
    "# Run a full simulation for N interactions.\n",
    "\n",
    "def runSim(M, N, game=\"NG\"):\n",
    "    \n",
    "    agents = initAgents(M)\n",
    "    \n",
    "    for i in range(N):\n",
    "        \n",
    "        # Print intermediate progress.\n",
    "        if game == \"NG\":\n",
    "            if i % 10 == 0:\n",
    "                print(\n",
    "                    \"Signals after {number} iteration(s):\".format(number=i), \n",
    "                    [agent.signals for agent in agents]\n",
    "                        )\n",
    "        if game == \"LSG\":\n",
    "            if i % 500 == 0:\n",
    "                print(\n",
    "                    \"Strategies after {number} iteration(s):\".format(number=i), \n",
    "                    \"\\n Sender (state->signal):    \", agents[0].strategy,\n",
    "                    \"\\n Receiver (signal->action): \", agents[1].strategy\n",
    "                )\n",
    "        \n",
    "        S, R = chooseAgents(agents)\n",
    "        interaction(S, R)"
   ]
  },
  {
   "cell_type": "markdown",
   "metadata": {},
   "source": [
    "## Naming Game"
   ]
  },
  {
   "cell_type": "code",
   "execution_count": 23,
   "metadata": {},
   "outputs": [],
   "source": [
    "# Define single Agent class; any agent can play either S or R role at a given interaction.\n",
    "\n",
    "class Agent:\n",
    "    \n",
    "    def __init__(self):\n",
    "        self.signals = []\n",
    "\n",
    "    def getSignal(self, _):\n",
    "        if not self.signals: # test if signals is empty\n",
    "            return random.randint(0, l-1)\n",
    "        else:\n",
    "            return random.choice(self.signals)\n",
    "\n",
    "    def guessMeaning(self, sigma):\n",
    "        if sigma in self.signals:\n",
    "            return 1\n",
    "        else:\n",
    "            return 0\n",
    "\n",
    "    def update(self, outcome, sigma, _1, _2):\n",
    "        if outcome:\n",
    "            self.signals = [sigma]\n",
    "        else:\n",
    "            self.signals.append(sigma)"
   ]
  },
  {
   "cell_type": "code",
   "execution_count": 24,
   "metadata": {},
   "outputs": [],
   "source": [
    "#  Define selection of meanings and agents for each interaction.\n",
    "\n",
    "def initAgents(agents):\n",
    "    agents = [Agent() for _ in range(M)]\n",
    "    return agents\n",
    "\n",
    "def chooseAgents(agents):\n",
    "    S, R = random.sample(agents, 2)\n",
    "    return S, R\n",
    "\n",
    "def getMeaning():\n",
    "    return 1"
   ]
  },
  {
   "cell_type": "code",
   "execution_count": 25,
   "metadata": {},
   "outputs": [
    {
     "name": "stdout",
     "output_type": "stream",
     "text": [
      "Signals after 0 iteration(s): [[], [], [], [], [], [], [], [], [], []]\n",
      "Signals after 10 iteration(s): [[5], [1, 1, 1], [1], [1], [1], [5], [1], [5, 1, 1, 1], [1], []]\n",
      "Signals after 20 iteration(s): [[5, 5], [1], [1], [1], [1], [5, 9, 1], [1, 5], [5, 1, 1, 1], [1], [1]]\n",
      "Signals after 30 iteration(s): [[5, 5, 1, 5], [1], [1, 5, 5], [1, 1], [1], [5], [1, 5], [1], [1, 5], [1, 5]]\n",
      "Signals after 40 iteration(s): [[5], [1], [1, 5, 5, 5], [1], [1], [1], [1], [1], [1, 5], [5, 1]]\n",
      "Signals after 50 iteration(s): [[1], [1], [1], [1], [1], [1], [1], [1], [1], [5, 1]]\n",
      "Signals after 60 iteration(s): [[1], [1], [1], [1], [1, 5], [1], [1], [1], [1], [1]]\n",
      "Signals after 70 iteration(s): [[1], [1], [1], [1], [1, 5, 5], [1], [1], [1], [1], [1]]\n",
      "Signals after 80 iteration(s): [[1], [1], [1], [1], [1], [1], [1], [1], [1], [1]]\n",
      "Signals after 90 iteration(s): [[1], [1], [1], [1], [1], [1], [1], [1], [1], [1]]\n"
     ]
    }
   ],
   "source": [
    "# Run simulation.\n",
    "\n",
    "M = 10     # number of agents\n",
    "N = 100    # number of interactions\n",
    "l = 10     # number of signals\n",
    "\n",
    "runSim(M, N, game=\"NG\")"
   ]
  },
  {
   "cell_type": "markdown",
   "metadata": {},
   "source": [
    "## Lewis Signaling Game (with win-stay-lose-shift update)"
   ]
  },
  {
   "cell_type": "code",
   "execution_count": 26,
   "metadata": {},
   "outputs": [],
   "source": [
    "# Define Sender and Receiver class, including update functions. \n",
    "\n",
    "class Sender:\n",
    "    \n",
    "    def __init__(self):\n",
    "        self.strategy = {}\n",
    "        for state in range(k):\n",
    "            self.strategy[state] = random.randint(0, l-1)\n",
    "\n",
    "    def getSignal(self, m_t):\n",
    "        return self.strategy[m_t]\n",
    "\n",
    "    def update(self, outcome, sigma, m_t, _):\n",
    "        if not outcome: \n",
    "            alternative_signals = list(range(l))\n",
    "            alternative_signals.remove(sigma)\n",
    "            self.strategy[m_t] = random.choice(alternative_signals) \n",
    "\n",
    "            \n",
    "class Receiver:\n",
    "    \n",
    "    def __init__(self):\n",
    "        self.strategy = {} \n",
    "        for signal in range(l): \n",
    "            self.strategy[signal] = random.randint(0, k-1)\n",
    "\n",
    "    def guessMeaning(self, sigma):\n",
    "        return self.strategy[sigma]\n",
    "\n",
    "    def update(self, outcome, sigma, _, m_r):\n",
    "        if not outcome:\n",
    "            alternative_actions = list(range(k))\n",
    "            alternative_actions.remove(m_r)\n",
    "            self.strategy[sigma] = random.choice(alternative_actions)"
   ]
  },
  {
   "cell_type": "code",
   "execution_count": 27,
   "metadata": {},
   "outputs": [],
   "source": [
    "#  Define selection of meanings and agents for each interaction.\n",
    "\n",
    "def initAgents(agents):\n",
    "    return [Sender(), Receiver()]\n",
    "\n",
    "def chooseAgents(agents):\n",
    "    return agents\n",
    "\n",
    "def getMeaning():\n",
    "    return random.randint(0, k-1)"
   ]
  },
  {
   "cell_type": "code",
   "execution_count": 28,
   "metadata": {},
   "outputs": [
    {
     "name": "stdout",
     "output_type": "stream",
     "text": [
      "Strategies after 0 iteration(s): \n",
      " Sender (state->signal):     {0: 2, 1: 3, 2: 0, 3: 1} \n",
      " Receiver (signal->action):  {0: 2, 1: 2, 2: 2, 3: 2}\n",
      "Strategies after 500 iteration(s): \n",
      " Sender (state->signal):     {0: 2, 1: 3, 2: 1, 3: 1} \n",
      " Receiver (signal->action):  {0: 0, 1: 2, 2: 0, 3: 1}\n",
      "Strategies after 1000 iteration(s): \n",
      " Sender (state->signal):     {0: 2, 1: 3, 2: 2, 3: 1} \n",
      " Receiver (signal->action):  {0: 0, 1: 0, 2: 2, 3: 2}\n",
      "Strategies after 1500 iteration(s): \n",
      " Sender (state->signal):     {0: 2, 1: 0, 2: 1, 3: 3} \n",
      " Receiver (signal->action):  {0: 1, 1: 2, 2: 0, 3: 3}\n",
      "Strategies after 2000 iteration(s): \n",
      " Sender (state->signal):     {0: 2, 1: 0, 2: 1, 3: 3} \n",
      " Receiver (signal->action):  {0: 1, 1: 2, 2: 0, 3: 3}\n",
      "Strategies after 2500 iteration(s): \n",
      " Sender (state->signal):     {0: 2, 1: 0, 2: 1, 3: 3} \n",
      " Receiver (signal->action):  {0: 1, 1: 2, 2: 0, 3: 3}\n"
     ]
    }
   ],
   "source": [
    "# Run simulation. \n",
    "# WSLS is very inefficient, so we increase the number of runs and decrease the number of signals.\n",
    "\n",
    "M = 2      # number of agents\n",
    "N = 3000   # number of interactions \n",
    "k = 4      # number of meanings\n",
    "l = 4      # number of signals\n",
    "\n",
    "runSim(M, N, game=\"LSG\")"
   ]
  },
  {
   "cell_type": "code",
   "execution_count": null,
   "metadata": {},
   "outputs": [],
   "source": []
  }
 ],
 "metadata": {
  "kernelspec": {
   "display_name": "Python 3",
   "language": "python",
   "name": "python3"
  },
  "language_info": {
   "codemirror_mode": {
    "name": "ipython",
    "version": 3
   },
   "file_extension": ".py",
   "mimetype": "text/x-python",
   "name": "python",
   "nbconvert_exporter": "python",
   "pygments_lexer": "ipython3",
   "version": "3.7.4"
  }
 },
 "nbformat": 4,
 "nbformat_minor": 2
}
